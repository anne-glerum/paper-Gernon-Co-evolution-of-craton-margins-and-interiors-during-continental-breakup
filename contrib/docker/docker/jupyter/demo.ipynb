{
 "cells": [
  {
   "cell_type": "code",
   "execution_count": 1,
   "metadata": {},
   "outputs": [
    {
     "name": "stdout",
     "output_type": "stream",
     "text": [
      "-----------------------------------------------------------------------------\r\n",
      "-- This is ASPECT, the Advanced Solver for Problems in Earth's ConvecTion.\r\n",
      "--     . version 2.0.0-pre\r\n",
      "--     . running in DEBUG mode\r\n",
      "--     . running with 1 MPI process\r\n",
      "--     . using Trilinos\r\n",
      "-----------------------------------------------------------------------------\r\n",
      "\r\n",
      "Version information of underlying libraries:\r\n",
      "   . deal.II:    8.5.0\r\n",
      "   . Trilinos:   12.10.1\r\n",
      "   . p4est:      2.0.0\r\n",
      "\r\n"
     ]
    }
   ],
   "source": [
    "!./aspect/aspect --version"
   ]
  },
  {
   "cell_type": "code",
   "execution_count": null,
   "metadata": {
    "collapsed": true
   },
   "outputs": [],
   "source": []
  }
 ],
 "metadata": {
  "kernelspec": {
   "display_name": "Python 3",
   "language": "python",
   "name": "python3"
  },
  "language_info": {
   "codemirror_mode": {
    "name": "ipython",
    "version": 3
   },
   "file_extension": ".py",
   "mimetype": "text/x-python",
   "name": "python",
   "nbconvert_exporter": "python",
   "pygments_lexer": "ipython3",
   "version": "3.5.2"
  }
 },
 "nbformat": 4,
 "nbformat_minor": 2
}
