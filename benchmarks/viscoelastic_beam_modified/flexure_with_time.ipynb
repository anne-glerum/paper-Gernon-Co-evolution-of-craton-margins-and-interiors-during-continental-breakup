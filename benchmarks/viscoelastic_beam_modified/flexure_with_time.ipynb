{
 "cells": [
  {
   "cell_type": "code",
   "execution_count": 1,
   "metadata": {},
   "outputs": [],
   "source": [
    "from vtk import vtkUnstructuredGridReader\n",
    "from vtk import vtkXMLUnstructuredGridReader\n",
    "from vtk.util import numpy_support as VN\n",
    "from vtk.util.numpy_support import vtk_to_numpy\n",
    "import numpy as np\n",
    "import matplotlib.pyplot as plt\n",
    "import os"
   ]
  },
  {
   "cell_type": "code",
   "execution_count": 2,
   "metadata": {},
   "outputs": [],
   "source": [
    "# A python code that plots the maximum flexure of the beam at each output time. This code iterates\n",
    "# over every .vtu file output by ASPECT, so it may take a little time to run.\n",
    "# The arguments of the function are:\n",
    "#    sol_dir_path - the pathway to the solutions directory which contains all of the .vtu files\n",
    "#    beam_name - the name of the composition field in the input file that makes up the beam\n",
    "#    beambot - the y-value that is set in the input file as the base of the beam\n",
    "#######################################################################################\n",
    "def flex_time(sol_dir_path, beam_name, beambot):\n",
    "    solutions = os.listdir( sol_dir_path ) # list all files in the solution directory\n",
    "    minvals = []\n",
    "    # iterate over all .vtu files in the solutions directory\n",
    "    for j, soln in enumerate(solutions):\n",
    "        if j%3==0: # take every 3rd file, since there is a .vtu, .pvtu, and .visit file created \n",
    "                   # for each  output, but only the .vtu file is needed\n",
    "                \n",
    "            filepath = os.path.join(sol_dir_path, soln) # join the .vtu file to the solution directory path\n",
    "            # read in the data from the .vtu file\n",
    "            reader = vtkXMLUnstructuredGridReader()\n",
    "            reader.SetFileName(filepath)\n",
    "            reader.Update()\n",
    "            data = reader.GetOutput()\n",
    "            points = data.GetPoints()\n",
    "            x = vtk_to_numpy(points.GetData())\n",
    "            comp = vtk_to_numpy(data.GetPointData().GetArray(beam_name))\n",
    "            \n",
    "            # create an array that only contains the points where the beam is located\n",
    "            beam = []\n",
    "            for n in range(len(comp)):\n",
    "                if comp[n] > 0.5:\n",
    "                    beam.append(x[n])\n",
    "            beam = np.array(beam)\n",
    "            minvals.append(min(beam[:, 1])) # append minimum y value of beam to minvals array\n",
    "    \n",
    "    # Plot\n",
    "    output_num = np.arange(0, len(minvals))\n",
    "    plt.figure(dpi = 140)\n",
    "    plt.scatter(output_num, (np.array(minvals) - beambot) / 1e3, s = 5)\n",
    "    plt.xlabel('Output Number')\n",
    "    plt.ylabel('Deflection - km')\n",
    "    plt.title('Maximum Flexure vs Time')"
   ]
  },
  {
   "cell_type": "code",
   "execution_count": null,
   "metadata": {},
   "outputs": [],
   "source": []
  }
 ],
 "metadata": {
  "kernelspec": {
   "display_name": "Python 3",
   "language": "python",
   "name": "python3"
  },
  "language_info": {
   "codemirror_mode": {
    "name": "ipython",
    "version": 3
   },
   "file_extension": ".py",
   "mimetype": "text/x-python",
   "name": "python",
   "nbconvert_exporter": "python",
   "pygments_lexer": "ipython3",
   "version": "3.7.3"
  }
 },
 "nbformat": 4,
 "nbformat_minor": 4
}
